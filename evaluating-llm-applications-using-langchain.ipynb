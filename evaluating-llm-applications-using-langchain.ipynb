{
 "cells": [
  {
   "cell_type": "markdown",
   "id": "84ad83c6",
   "metadata": {
    "_cell_guid": "b1076dfc-b9ad-4769-8c92-a6c4dae69d19",
    "_uuid": "8f2839f25d086af736a60e9eeb907d3b93b6e0e5",
    "papermill": {
     "duration": 0.011607,
     "end_time": "2024-06-09T11:39:22.423764",
     "exception": false,
     "start_time": "2024-06-09T11:39:22.412157",
     "status": "completed"
    },
    "tags": []
   },
   "source": [
    "# <center style=\"font-family: consolas; font-size: 32px; font-weight: bold;\">  Evaluating LLM Applications Using LangChain </center>\n",
    "<center style=\"font-family: consolas; font-size: 32px; font-weight: bold;\">  Hands-On LangChain for LLM Application Development </center> \n",
    "\n",
    "***\n",
    "\n",
    "\n",
    "\n",
    "When constructing a sophisticated application employing an LLM, a crucial yet challenging aspect revolves around evaluating its performance. How can you ascertain if it meets accuracy standards? \n",
    "\n",
    "Moreover, if you opt to alter your implementation — perhaps by substituting a different LLM or adjusting the strategy for utilizing a vector database or other retrieval mechanisms — how can you gauge whether these changes enhance or detract from the application?\n",
    "\n",
    "This notebook discusses the challenges of evaluating the performance of applications built with large language models (LLMs) and explores strategies for effectively assessing their accuracy and effectiveness.\n",
    "\n",
    "It emphasizes the importance of understanding the inputs and outputs of each step in the application’s workflow and introduces frameworks and tools designed to aid in evaluation. \n",
    "\n",
    "Additionally, it explores the concept of using language models and chains themselves to evaluate other models and applications. With the rise of prompt-based development and the growing reliance on LLMs, the process of evaluating application workflows is undergoing reevaluation.\n",
    "\n",
    "#### <a id=\"top\"></a>\n",
    "# <div style=\"box-shadow: rgb(60, 121, 245) 0px 0px 0px 3px inset, rgb(255, 255, 255) 10px -10px 0px -3px, rgb(31, 193, 27) 10px -10px, rgb(255, 255, 255) 20px -20px 0px -3px, rgb(255, 217, 19) 20px -20px, rgb(255, 255, 255) 30px -30px 0px -3px, rgb(255, 156, 85) 30px -30px, rgb(255, 255, 255) 40px -40px 0px -3px, rgb(255, 85, 85) 40px -40px; padding:20px; margin-right: 40px; font-size:30px; font-family: consolas; text-align:center; display:fill; border-radius:15px; color:rgb(60, 121, 245);\"><b>Table of contents</b></div>\n",
    "\n",
    "<div style=\"background-color: rgba(60, 121, 245, 0.03); padding:30px; font-size:15px; font-family: consolas;\">\n",
    "<ul>\n",
    "    <li><a href=\"#1\" target=\"_self\" rel=\" noreferrer nofollow\">1. Setting Up Working Environment </a></li> \n",
    "    <li><a href=\"#2\" target=\"_self\" rel=\" noreferrer nofollow\">2. Manual Evaluation & Debugging </a></li> \n",
    "    <li><a href=\"#3\" target=\"_self\" rel=\" noreferrer nofollow\">3. LLM-Assisted Evaluation </a></li> \n",
    "    <li><a href=\"#4\" target=\"_self\" rel=\" noreferrer nofollow\">4. Observing Behind the Scenes </a></li> \n",
    "</ul>\n",
    "</div>\n",
    "\n",
    "***\n",
    "\n",
    "<a id=\"1\"></a>\n",
    "# <div style=\"box-shadow: rgba(0, 0, 0, 0.16) 0px 1px 4px inset, rgb(51, 51, 51) 0px 0px 0px 3px inset; padding:20px; font-size:32px; font-family: consolas; text-align:center; display:fill; border-radius:15px;  color:rgb(34, 34, 34);\"> <b> 1. Setting Up Working Environment </b></div>\n",
    "\n",
    "\n",
    "\n",
    "As usual, we will start by setting the working environment and importing the important packages and libraries we will use throughout this notebook. First, we will define the environment variables that will be used later to load the OpenAI API key to use the LLM.\n"
   ]
  },
  {
   "cell_type": "code",
   "execution_count": 1,
   "id": "70a74932",
   "metadata": {
    "execution": {
     "iopub.execute_input": "2024-06-09T11:39:22.449424Z",
     "iopub.status.busy": "2024-06-09T11:39:22.448996Z",
     "iopub.status.idle": "2024-06-09T11:40:54.470722Z",
     "shell.execute_reply": "2024-06-09T11:40:54.468999Z"
    },
    "papermill": {
     "duration": 92.039388,
     "end_time": "2024-06-09T11:40:54.474600",
     "exception": false,
     "start_time": "2024-06-09T11:39:22.435212",
     "status": "completed"
    },
    "tags": []
   },
   "outputs": [
    {
     "name": "stdout",
     "output_type": "stream",
     "text": [
      "Collecting langchain\r\n",
      "  Downloading langchain-0.2.3-py3-none-any.whl.metadata (6.9 kB)\r\n",
      "Requirement already satisfied: PyYAML>=5.3 in /opt/conda/lib/python3.10/site-packages (from langchain) (6.0.1)\r\n",
      "Requirement already satisfied: SQLAlchemy<3,>=1.4 in /opt/conda/lib/python3.10/site-packages (from langchain) (2.0.25)\r\n",
      "Requirement already satisfied: aiohttp<4.0.0,>=3.8.3 in /opt/conda/lib/python3.10/site-packages (from langchain) (3.9.1)\r\n",
      "Requirement already satisfied: async-timeout<5.0.0,>=4.0.0 in /opt/conda/lib/python3.10/site-packages (from langchain) (4.0.3)\r\n",
      "Collecting langchain-core<0.3.0,>=0.2.0 (from langchain)\r\n",
      "  Downloading langchain_core-0.2.5-py3-none-any.whl.metadata (5.8 kB)\r\n",
      "Collecting langchain-text-splitters<0.3.0,>=0.2.0 (from langchain)\r\n",
      "  Downloading langchain_text_splitters-0.2.1-py3-none-any.whl.metadata (2.2 kB)\r\n",
      "Collecting langsmith<0.2.0,>=0.1.17 (from langchain)\r\n",
      "  Downloading langsmith-0.1.75-py3-none-any.whl.metadata (13 kB)\r\n",
      "Requirement already satisfied: numpy<2,>=1 in /opt/conda/lib/python3.10/site-packages (from langchain) (1.26.4)\r\n",
      "Requirement already satisfied: pydantic<3,>=1 in /opt/conda/lib/python3.10/site-packages (from langchain) (2.5.3)\r\n",
      "Requirement already satisfied: requests<3,>=2 in /opt/conda/lib/python3.10/site-packages (from langchain) (2.32.3)\r\n",
      "Requirement already satisfied: tenacity<9.0.0,>=8.1.0 in /opt/conda/lib/python3.10/site-packages (from langchain) (8.2.3)\r\n",
      "Requirement already satisfied: attrs>=17.3.0 in /opt/conda/lib/python3.10/site-packages (from aiohttp<4.0.0,>=3.8.3->langchain) (23.2.0)\r\n",
      "Requirement already satisfied: multidict<7.0,>=4.5 in /opt/conda/lib/python3.10/site-packages (from aiohttp<4.0.0,>=3.8.3->langchain) (6.0.4)\r\n",
      "Requirement already satisfied: yarl<2.0,>=1.0 in /opt/conda/lib/python3.10/site-packages (from aiohttp<4.0.0,>=3.8.3->langchain) (1.9.3)\r\n",
      "Requirement already satisfied: frozenlist>=1.1.1 in /opt/conda/lib/python3.10/site-packages (from aiohttp<4.0.0,>=3.8.3->langchain) (1.4.1)\r\n",
      "Requirement already satisfied: aiosignal>=1.1.2 in /opt/conda/lib/python3.10/site-packages (from aiohttp<4.0.0,>=3.8.3->langchain) (1.3.1)\r\n",
      "Requirement already satisfied: jsonpatch<2.0,>=1.33 in /opt/conda/lib/python3.10/site-packages (from langchain-core<0.3.0,>=0.2.0->langchain) (1.33)\r\n",
      "Collecting packaging<24.0,>=23.2 (from langchain-core<0.3.0,>=0.2.0->langchain)\r\n",
      "  Downloading packaging-23.2-py3-none-any.whl.metadata (3.2 kB)\r\n",
      "Collecting orjson<4.0.0,>=3.9.14 (from langsmith<0.2.0,>=0.1.17->langchain)\r\n",
      "  Downloading orjson-3.10.3-cp310-cp310-manylinux_2_17_x86_64.manylinux2014_x86_64.whl.metadata (49 kB)\r\n",
      "\u001b[2K     \u001b[90m━━━━━━━━━━━━━━━━━━━━━━━━━━━━━━━━━━━━━━━━\u001b[0m \u001b[32m49.7/49.7 kB\u001b[0m \u001b[31m1.7 MB/s\u001b[0m eta \u001b[36m0:00:00\u001b[0m\r\n",
      "\u001b[?25hRequirement already satisfied: annotated-types>=0.4.0 in /opt/conda/lib/python3.10/site-packages (from pydantic<3,>=1->langchain) (0.6.0)\r\n",
      "Requirement already satisfied: pydantic-core==2.14.6 in /opt/conda/lib/python3.10/site-packages (from pydantic<3,>=1->langchain) (2.14.6)\r\n",
      "Requirement already satisfied: typing-extensions>=4.6.1 in /opt/conda/lib/python3.10/site-packages (from pydantic<3,>=1->langchain) (4.9.0)\r\n",
      "Requirement already satisfied: charset-normalizer<4,>=2 in /opt/conda/lib/python3.10/site-packages (from requests<3,>=2->langchain) (3.3.2)\r\n",
      "Requirement already satisfied: idna<4,>=2.5 in /opt/conda/lib/python3.10/site-packages (from requests<3,>=2->langchain) (3.6)\r\n",
      "Requirement already satisfied: urllib3<3,>=1.21.1 in /opt/conda/lib/python3.10/site-packages (from requests<3,>=2->langchain) (1.26.18)\r\n",
      "Requirement already satisfied: certifi>=2017.4.17 in /opt/conda/lib/python3.10/site-packages (from requests<3,>=2->langchain) (2024.2.2)\r\n",
      "Requirement already satisfied: greenlet!=0.4.17 in /opt/conda/lib/python3.10/site-packages (from SQLAlchemy<3,>=1.4->langchain) (3.0.3)\r\n",
      "Requirement already satisfied: jsonpointer>=1.9 in /opt/conda/lib/python3.10/site-packages (from jsonpatch<2.0,>=1.33->langchain-core<0.3.0,>=0.2.0->langchain) (2.4)\r\n",
      "Downloading langchain-0.2.3-py3-none-any.whl (974 kB)\r\n",
      "\u001b[2K   \u001b[90m━━━━━━━━━━━━━━━━━━━━━━━━━━━━━━━━━━━━━━━━\u001b[0m \u001b[32m974.0/974.0 kB\u001b[0m \u001b[31m22.3 MB/s\u001b[0m eta \u001b[36m0:00:00\u001b[0m\r\n",
      "\u001b[?25hDownloading langchain_core-0.2.5-py3-none-any.whl (314 kB)\r\n",
      "\u001b[2K   \u001b[90m━━━━━━━━━━━━━━━━━━━━━━━━━━━━━━━━━━━━━━━━\u001b[0m \u001b[32m314.7/314.7 kB\u001b[0m \u001b[31m13.2 MB/s\u001b[0m eta \u001b[36m0:00:00\u001b[0m\r\n",
      "\u001b[?25hDownloading langchain_text_splitters-0.2.1-py3-none-any.whl (23 kB)\r\n",
      "Downloading langsmith-0.1.75-py3-none-any.whl (124 kB)\r\n",
      "\u001b[2K   \u001b[90m━━━━━━━━━━━━━━━━━━━━━━━━━━━━━━━━━━━━━━━━\u001b[0m \u001b[32m124.9/124.9 kB\u001b[0m \u001b[31m5.9 MB/s\u001b[0m eta \u001b[36m0:00:00\u001b[0m\r\n",
      "\u001b[?25hDownloading orjson-3.10.3-cp310-cp310-manylinux_2_17_x86_64.manylinux2014_x86_64.whl (142 kB)\r\n",
      "\u001b[2K   \u001b[90m━━━━━━━━━━━━━━━━━━━━━━━━━━━━━━━━━━━━━━━━\u001b[0m \u001b[32m142.5/142.5 kB\u001b[0m \u001b[31m6.2 MB/s\u001b[0m eta \u001b[36m0:00:00\u001b[0m\r\n",
      "\u001b[?25hDownloading packaging-23.2-py3-none-any.whl (53 kB)\r\n",
      "\u001b[2K   \u001b[90m━━━━━━━━━━━━━━━━━━━━━━━━━━━━━━━━━━━━━━━━\u001b[0m \u001b[32m53.0/53.0 kB\u001b[0m \u001b[31m2.6 MB/s\u001b[0m eta \u001b[36m0:00:00\u001b[0m\r\n",
      "\u001b[?25hInstalling collected packages: packaging, orjson, langsmith, langchain-core, langchain-text-splitters, langchain\r\n",
      "  Attempting uninstall: packaging\r\n",
      "    Found existing installation: packaging 21.3\r\n",
      "    Uninstalling packaging-21.3:\r\n",
      "      Successfully uninstalled packaging-21.3\r\n",
      "  Attempting uninstall: orjson\r\n",
      "    Found existing installation: orjson 3.9.10\r\n",
      "    Uninstalling orjson-3.9.10:\r\n",
      "      Successfully uninstalled orjson-3.9.10\r\n",
      "\u001b[31mERROR: pip's dependency resolver does not currently take into account all the packages that are installed. This behaviour is the source of the following dependency conflicts.\r\n",
      "keras-cv 0.9.0 requires keras-core, which is not installed.\r\n",
      "keras-nlp 0.12.1 requires keras-core, which is not installed.\r\n",
      "tensorflow-decision-forests 1.8.1 requires wurlitzer, which is not installed.\r\n",
      "apache-beam 2.46.0 requires dill<0.3.2,>=0.3.1.1, but you have dill 0.3.8 which is incompatible.\r\n",
      "apache-beam 2.46.0 requires numpy<1.25.0,>=1.14.3, but you have numpy 1.26.4 which is incompatible.\r\n",
      "apache-beam 2.46.0 requires pyarrow<10.0.0,>=3.0.0, but you have pyarrow 16.1.0 which is incompatible.\r\n",
      "google-cloud-bigquery 2.34.4 requires packaging<22.0dev,>=14.3, but you have packaging 23.2 which is incompatible.\r\n",
      "jupyterlab 4.2.1 requires jupyter-lsp>=2.0.0, but you have jupyter-lsp 1.5.1 which is incompatible.\r\n",
      "jupyterlab-lsp 5.1.0 requires jupyter-lsp>=2.0.0, but you have jupyter-lsp 1.5.1 which is incompatible.\r\n",
      "libpysal 4.9.2 requires shapely>=2.0.1, but you have shapely 1.8.5.post1 which is incompatible.\r\n",
      "momepy 0.7.0 requires shapely>=2, but you have shapely 1.8.5.post1 which is incompatible.\r\n",
      "osmnx 1.9.3 requires shapely>=2.0, but you have shapely 1.8.5.post1 which is incompatible.\r\n",
      "spopt 0.6.0 requires shapely>=2.0.1, but you have shapely 1.8.5.post1 which is incompatible.\r\n",
      "tensorflow 2.15.0 requires keras<2.16,>=2.15.0, but you have keras 3.3.3 which is incompatible.\r\n",
      "ydata-profiling 4.6.4 requires numpy<1.26,>=1.16.0, but you have numpy 1.26.4 which is incompatible.\u001b[0m\u001b[31m\r\n",
      "\u001b[0mSuccessfully installed langchain-0.2.3 langchain-core-0.2.5 langchain-text-splitters-0.2.1 langsmith-0.1.75 orjson-3.10.3 packaging-23.2\r\n",
      "Collecting langchain_community\r\n",
      "  Downloading langchain_community-0.2.4-py3-none-any.whl.metadata (2.4 kB)\r\n",
      "Requirement already satisfied: PyYAML>=5.3 in /opt/conda/lib/python3.10/site-packages (from langchain_community) (6.0.1)\r\n",
      "Requirement already satisfied: SQLAlchemy<3,>=1.4 in /opt/conda/lib/python3.10/site-packages (from langchain_community) (2.0.25)\r\n",
      "Requirement already satisfied: aiohttp<4.0.0,>=3.8.3 in /opt/conda/lib/python3.10/site-packages (from langchain_community) (3.9.1)\r\n",
      "Requirement already satisfied: dataclasses-json<0.7,>=0.5.7 in /opt/conda/lib/python3.10/site-packages (from langchain_community) (0.6.6)\r\n",
      "Requirement already satisfied: langchain<0.3.0,>=0.2.0 in /opt/conda/lib/python3.10/site-packages (from langchain_community) (0.2.3)\r\n",
      "Requirement already satisfied: langchain-core<0.3.0,>=0.2.0 in /opt/conda/lib/python3.10/site-packages (from langchain_community) (0.2.5)\r\n",
      "Requirement already satisfied: langsmith<0.2.0,>=0.1.0 in /opt/conda/lib/python3.10/site-packages (from langchain_community) (0.1.75)\r\n",
      "Requirement already satisfied: numpy<2,>=1 in /opt/conda/lib/python3.10/site-packages (from langchain_community) (1.26.4)\r\n",
      "Requirement already satisfied: requests<3,>=2 in /opt/conda/lib/python3.10/site-packages (from langchain_community) (2.32.3)\r\n",
      "Requirement already satisfied: tenacity<9.0.0,>=8.1.0 in /opt/conda/lib/python3.10/site-packages (from langchain_community) (8.2.3)\r\n",
      "Requirement already satisfied: attrs>=17.3.0 in /opt/conda/lib/python3.10/site-packages (from aiohttp<4.0.0,>=3.8.3->langchain_community) (23.2.0)\r\n",
      "Requirement already satisfied: multidict<7.0,>=4.5 in /opt/conda/lib/python3.10/site-packages (from aiohttp<4.0.0,>=3.8.3->langchain_community) (6.0.4)\r\n",
      "Requirement already satisfied: yarl<2.0,>=1.0 in /opt/conda/lib/python3.10/site-packages (from aiohttp<4.0.0,>=3.8.3->langchain_community) (1.9.3)\r\n",
      "Requirement already satisfied: frozenlist>=1.1.1 in /opt/conda/lib/python3.10/site-packages (from aiohttp<4.0.0,>=3.8.3->langchain_community) (1.4.1)\r\n",
      "Requirement already satisfied: aiosignal>=1.1.2 in /opt/conda/lib/python3.10/site-packages (from aiohttp<4.0.0,>=3.8.3->langchain_community) (1.3.1)\r\n",
      "Requirement already satisfied: async-timeout<5.0,>=4.0 in /opt/conda/lib/python3.10/site-packages (from aiohttp<4.0.0,>=3.8.3->langchain_community) (4.0.3)\r\n",
      "Requirement already satisfied: marshmallow<4.0.0,>=3.18.0 in /opt/conda/lib/python3.10/site-packages (from dataclasses-json<0.7,>=0.5.7->langchain_community) (3.21.2)\r\n",
      "Requirement already satisfied: typing-inspect<1,>=0.4.0 in /opt/conda/lib/python3.10/site-packages (from dataclasses-json<0.7,>=0.5.7->langchain_community) (0.9.0)\r\n",
      "Requirement already satisfied: langchain-text-splitters<0.3.0,>=0.2.0 in /opt/conda/lib/python3.10/site-packages (from langchain<0.3.0,>=0.2.0->langchain_community) (0.2.1)\r\n",
      "Requirement already satisfied: pydantic<3,>=1 in /opt/conda/lib/python3.10/site-packages (from langchain<0.3.0,>=0.2.0->langchain_community) (2.5.3)\r\n",
      "Requirement already satisfied: jsonpatch<2.0,>=1.33 in /opt/conda/lib/python3.10/site-packages (from langchain-core<0.3.0,>=0.2.0->langchain_community) (1.33)\r\n",
      "Requirement already satisfied: packaging<24.0,>=23.2 in /opt/conda/lib/python3.10/site-packages (from langchain-core<0.3.0,>=0.2.0->langchain_community) (23.2)\r\n",
      "Requirement already satisfied: orjson<4.0.0,>=3.9.14 in /opt/conda/lib/python3.10/site-packages (from langsmith<0.2.0,>=0.1.0->langchain_community) (3.10.3)\r\n",
      "Requirement already satisfied: charset-normalizer<4,>=2 in /opt/conda/lib/python3.10/site-packages (from requests<3,>=2->langchain_community) (3.3.2)\r\n",
      "Requirement already satisfied: idna<4,>=2.5 in /opt/conda/lib/python3.10/site-packages (from requests<3,>=2->langchain_community) (3.6)\r\n",
      "Requirement already satisfied: urllib3<3,>=1.21.1 in /opt/conda/lib/python3.10/site-packages (from requests<3,>=2->langchain_community) (1.26.18)\r\n",
      "Requirement already satisfied: certifi>=2017.4.17 in /opt/conda/lib/python3.10/site-packages (from requests<3,>=2->langchain_community) (2024.2.2)\r\n",
      "Requirement already satisfied: typing-extensions>=4.6.0 in /opt/conda/lib/python3.10/site-packages (from SQLAlchemy<3,>=1.4->langchain_community) (4.9.0)\r\n",
      "Requirement already satisfied: greenlet!=0.4.17 in /opt/conda/lib/python3.10/site-packages (from SQLAlchemy<3,>=1.4->langchain_community) (3.0.3)\r\n",
      "Requirement already satisfied: jsonpointer>=1.9 in /opt/conda/lib/python3.10/site-packages (from jsonpatch<2.0,>=1.33->langchain-core<0.3.0,>=0.2.0->langchain_community) (2.4)\r\n",
      "Requirement already satisfied: annotated-types>=0.4.0 in /opt/conda/lib/python3.10/site-packages (from pydantic<3,>=1->langchain<0.3.0,>=0.2.0->langchain_community) (0.6.0)\r\n",
      "Requirement already satisfied: pydantic-core==2.14.6 in /opt/conda/lib/python3.10/site-packages (from pydantic<3,>=1->langchain<0.3.0,>=0.2.0->langchain_community) (2.14.6)\r\n",
      "Requirement already satisfied: mypy-extensions>=0.3.0 in /opt/conda/lib/python3.10/site-packages (from typing-inspect<1,>=0.4.0->dataclasses-json<0.7,>=0.5.7->langchain_community) (1.0.0)\r\n",
      "Downloading langchain_community-0.2.4-py3-none-any.whl (2.2 MB)\r\n",
      "\u001b[2K   \u001b[90m━━━━━━━━━━━━━━━━━━━━━━━━━━━━━━━━━━━━━━━━\u001b[0m \u001b[32m2.2/2.2 MB\u001b[0m \u001b[31m31.2 MB/s\u001b[0m eta \u001b[36m0:00:00\u001b[0m\r\n",
      "\u001b[?25hInstalling collected packages: langchain_community\r\n",
      "Successfully installed langchain_community-0.2.4\r\n",
      "Collecting openai\r\n",
      "  Downloading openai-1.33.0-py3-none-any.whl.metadata (21 kB)\r\n",
      "Requirement already satisfied: anyio<5,>=3.5.0 in /opt/conda/lib/python3.10/site-packages (from openai) (4.2.0)\r\n",
      "Requirement already satisfied: distro<2,>=1.7.0 in /opt/conda/lib/python3.10/site-packages (from openai) (1.9.0)\r\n",
      "Requirement already satisfied: httpx<1,>=0.23.0 in /opt/conda/lib/python3.10/site-packages (from openai) (0.27.0)\r\n",
      "Requirement already satisfied: pydantic<3,>=1.9.0 in /opt/conda/lib/python3.10/site-packages (from openai) (2.5.3)\r\n",
      "Requirement already satisfied: sniffio in /opt/conda/lib/python3.10/site-packages (from openai) (1.3.0)\r\n",
      "Requirement already satisfied: tqdm>4 in /opt/conda/lib/python3.10/site-packages (from openai) (4.66.4)\r\n",
      "Requirement already satisfied: typing-extensions<5,>=4.7 in /opt/conda/lib/python3.10/site-packages (from openai) (4.9.0)\r\n",
      "Requirement already satisfied: idna>=2.8 in /opt/conda/lib/python3.10/site-packages (from anyio<5,>=3.5.0->openai) (3.6)\r\n",
      "Requirement already satisfied: exceptiongroup>=1.0.2 in /opt/conda/lib/python3.10/site-packages (from anyio<5,>=3.5.0->openai) (1.2.0)\r\n",
      "Requirement already satisfied: certifi in /opt/conda/lib/python3.10/site-packages (from httpx<1,>=0.23.0->openai) (2024.2.2)\r\n",
      "Requirement already satisfied: httpcore==1.* in /opt/conda/lib/python3.10/site-packages (from httpx<1,>=0.23.0->openai) (1.0.5)\r\n",
      "Requirement already satisfied: h11<0.15,>=0.13 in /opt/conda/lib/python3.10/site-packages (from httpcore==1.*->httpx<1,>=0.23.0->openai) (0.14.0)\r\n",
      "Requirement already satisfied: annotated-types>=0.4.0 in /opt/conda/lib/python3.10/site-packages (from pydantic<3,>=1.9.0->openai) (0.6.0)\r\n",
      "Requirement already satisfied: pydantic-core==2.14.6 in /opt/conda/lib/python3.10/site-packages (from pydantic<3,>=1.9.0->openai) (2.14.6)\r\n",
      "Downloading openai-1.33.0-py3-none-any.whl (325 kB)\r\n",
      "\u001b[2K   \u001b[90m━━━━━━━━━━━━━━━━━━━━━━━━━━━━━━━━━━━━━━━━\u001b[0m \u001b[32m325.5/325.5 kB\u001b[0m \u001b[31m6.6 MB/s\u001b[0m eta \u001b[36m0:00:00\u001b[0m\r\n",
      "\u001b[?25hInstalling collected packages: openai\r\n",
      "Successfully installed openai-1.33.0\r\n",
      "Collecting docarray\r\n",
      "  Downloading docarray-0.40.0-py3-none-any.whl.metadata (36 kB)\r\n",
      "Requirement already satisfied: numpy>=1.17.3 in /opt/conda/lib/python3.10/site-packages (from docarray) (1.26.4)\r\n",
      "Requirement already satisfied: orjson>=3.8.2 in /opt/conda/lib/python3.10/site-packages (from docarray) (3.10.3)\r\n",
      "Requirement already satisfied: pydantic>=1.10.8 in /opt/conda/lib/python3.10/site-packages (from docarray) (2.5.3)\r\n",
      "Requirement already satisfied: rich>=13.1.0 in /opt/conda/lib/python3.10/site-packages (from docarray) (13.7.0)\r\n",
      "Collecting types-requests>=2.28.11.6 (from docarray)\r\n",
      "  Downloading types_requests-2.32.0.20240602-py3-none-any.whl.metadata (1.8 kB)\r\n",
      "Requirement already satisfied: typing-inspect>=0.8.0 in /opt/conda/lib/python3.10/site-packages (from docarray) (0.9.0)\r\n",
      "Requirement already satisfied: annotated-types>=0.4.0 in /opt/conda/lib/python3.10/site-packages (from pydantic>=1.10.8->docarray) (0.6.0)\r\n",
      "Requirement already satisfied: pydantic-core==2.14.6 in /opt/conda/lib/python3.10/site-packages (from pydantic>=1.10.8->docarray) (2.14.6)\r\n",
      "Requirement already satisfied: typing-extensions>=4.6.1 in /opt/conda/lib/python3.10/site-packages (from pydantic>=1.10.8->docarray) (4.9.0)\r\n",
      "Requirement already satisfied: markdown-it-py>=2.2.0 in /opt/conda/lib/python3.10/site-packages (from rich>=13.1.0->docarray) (3.0.0)\r\n",
      "Requirement already satisfied: pygments<3.0.0,>=2.13.0 in /opt/conda/lib/python3.10/site-packages (from rich>=13.1.0->docarray) (2.17.2)\r\n",
      "Collecting urllib3>=2 (from types-requests>=2.28.11.6->docarray)\r\n",
      "  Downloading urllib3-2.2.1-py3-none-any.whl.metadata (6.4 kB)\r\n",
      "Requirement already satisfied: mypy-extensions>=0.3.0 in /opt/conda/lib/python3.10/site-packages (from typing-inspect>=0.8.0->docarray) (1.0.0)\r\n",
      "Requirement already satisfied: mdurl~=0.1 in /opt/conda/lib/python3.10/site-packages (from markdown-it-py>=2.2.0->rich>=13.1.0->docarray) (0.1.2)\r\n",
      "Downloading docarray-0.40.0-py3-none-any.whl (270 kB)\r\n",
      "\u001b[2K   \u001b[90m━━━━━━━━━━━━━━━━━━━━━━━━━━━━━━━━━━━━━━━━\u001b[0m \u001b[32m270.2/270.2 kB\u001b[0m \u001b[31m9.2 MB/s\u001b[0m eta \u001b[36m0:00:00\u001b[0m\r\n",
      "\u001b[?25hDownloading types_requests-2.32.0.20240602-py3-none-any.whl (15 kB)\r\n",
      "Downloading urllib3-2.2.1-py3-none-any.whl (121 kB)\r\n",
      "\u001b[2K   \u001b[90m━━━━━━━━━━━━━━━━━━━━━━━━━━━━━━━━━━━━━━━━\u001b[0m \u001b[32m121.1/121.1 kB\u001b[0m \u001b[31m6.5 MB/s\u001b[0m eta \u001b[36m0:00:00\u001b[0m\r\n",
      "\u001b[?25hInstalling collected packages: urllib3, types-requests, docarray\r\n",
      "  Attempting uninstall: urllib3\r\n",
      "    Found existing installation: urllib3 1.26.18\r\n",
      "    Uninstalling urllib3-1.26.18:\r\n",
      "      Successfully uninstalled urllib3-1.26.18\r\n",
      "\u001b[31mERROR: pip's dependency resolver does not currently take into account all the packages that are installed. This behaviour is the source of the following dependency conflicts.\r\n",
      "tensorflow-decision-forests 1.8.1 requires wurlitzer, which is not installed.\r\n",
      "kfp 2.5.0 requires google-cloud-storage<3,>=2.2.1, but you have google-cloud-storage 1.44.0 which is incompatible.\r\n",
      "kfp 2.5.0 requires urllib3<2.0.0, but you have urllib3 2.2.1 which is incompatible.\r\n",
      "tensorflow 2.15.0 requires keras<2.16,>=2.15.0, but you have keras 3.3.3 which is incompatible.\r\n",
      "ydata-profiling 4.6.4 requires numpy<1.26,>=1.16.0, but you have numpy 1.26.4 which is incompatible.\u001b[0m\u001b[31m\r\n",
      "\u001b[0mSuccessfully installed docarray-0.40.0 types-requests-2.32.0.20240602 urllib3-2.1.0\r\n",
      "Collecting tiktoken\r\n",
      "  Downloading tiktoken-0.7.0-cp310-cp310-manylinux_2_17_x86_64.manylinux2014_x86_64.whl.metadata (6.6 kB)\r\n",
      "Requirement already satisfied: regex>=2022.1.18 in /opt/conda/lib/python3.10/site-packages (from tiktoken) (2023.12.25)\r\n",
      "Requirement already satisfied: requests>=2.26.0 in /opt/conda/lib/python3.10/site-packages (from tiktoken) (2.32.3)\r\n",
      "Requirement already satisfied: charset-normalizer<4,>=2 in /opt/conda/lib/python3.10/site-packages (from requests>=2.26.0->tiktoken) (3.3.2)\r\n",
      "Requirement already satisfied: idna<4,>=2.5 in /opt/conda/lib/python3.10/site-packages (from requests>=2.26.0->tiktoken) (3.6)\r\n",
      "Requirement already satisfied: urllib3<3,>=1.21.1 in /opt/conda/lib/python3.10/site-packages (from requests>=2.26.0->tiktoken) (2.1.0)\r\n",
      "Requirement already satisfied: certifi>=2017.4.17 in /opt/conda/lib/python3.10/site-packages (from requests>=2.26.0->tiktoken) (2024.2.2)\r\n",
      "Downloading tiktoken-0.7.0-cp310-cp310-manylinux_2_17_x86_64.manylinux2014_x86_64.whl (1.1 MB)\r\n",
      "\u001b[2K   \u001b[90m━━━━━━━━━━━━━━━━━━━━━━━━━━━━━━━━━━━━━━━━\u001b[0m \u001b[32m1.1/1.1 MB\u001b[0m \u001b[31m16.7 MB/s\u001b[0m eta \u001b[36m0:00:00\u001b[0m\r\n",
      "\u001b[?25hInstalling collected packages: tiktoken\r\n",
      "Successfully installed tiktoken-0.7.0\r\n"
     ]
    }
   ],
   "source": [
    "!pip install langchain\n",
    "!pip install langchain_community\n",
    "!pip install openai\n",
    "!pip install docarray\n",
    "!pip install tiktoken\n",
    "\n",
    "import os\n",
    "import openai\n",
    "\n",
    "from openai import OpenAI\n",
    "import openai\n",
    "import os\n",
    "from kaggle_secrets import UserSecretsClient\n",
    "\n",
    "user_secrets = UserSecretsClient()\n",
    "openai.api_key = user_secrets.get_secret(\"openai_api\")\n",
    "client = OpenAI(\n",
    "    # This is the default and can be omitted\n",
    "    api_key=openai.api_key,\n",
    ")\n",
    "\n",
    "llm_model = \"gpt-3.5-turbo\""
   ]
  },
  {
   "cell_type": "markdown",
   "id": "9fb7d230",
   "metadata": {
    "papermill": {
     "duration": 0.018135,
     "end_time": "2024-06-09T11:40:54.511424",
     "exception": false,
     "start_time": "2024-06-09T11:40:54.493289",
     "status": "completed"
    },
    "tags": []
   },
   "source": [
    "We need to have a chain to evaluate so we will use the document question-answering chain. To do this we will have to import the packages that we are going to use and then load the data using LangChain PyDFloader We are going to import everything we need."
   ]
  },
  {
   "cell_type": "code",
   "execution_count": 2,
   "id": "23fd772d",
   "metadata": {
    "execution": {
     "iopub.execute_input": "2024-06-09T11:40:54.550619Z",
     "iopub.status.busy": "2024-06-09T11:40:54.549947Z",
     "iopub.status.idle": "2024-06-09T11:40:58.923199Z",
     "shell.execute_reply": "2024-06-09T11:40:58.921584Z"
    },
    "papermill": {
     "duration": 4.396776,
     "end_time": "2024-06-09T11:40:58.926586",
     "exception": false,
     "start_time": "2024-06-09T11:40:54.529810",
     "status": "completed"
    },
    "tags": []
   },
   "outputs": [],
   "source": [
    "from langchain.chains import RetrievalQA\n",
    "from langchain.chat_models import ChatOpenAI\n",
    "from langchain.document_loaders import CSVLoader\n",
    "from langchain.indexes import VectorstoreIndexCreator\n",
    "from langchain.vectorstores import DocArrayInMemorySearch\n",
    "from langchain.document_loaders import PyPDFLoader\n",
    "\n",
    "file = '/kaggle/input/how-to-build-a-career-in-ai-pdf/eBook-How-to-Build-a-Career-in-AI.pdf'\n",
    "loader = PyPDFLoader(file_path=file)\n",
    "data = loader.load()"
   ]
  },
  {
   "cell_type": "markdown",
   "id": "dca0c3cc",
   "metadata": {
    "papermill": {
     "duration": 0.018609,
     "end_time": "2024-06-09T11:40:58.966168",
     "exception": false,
     "start_time": "2024-06-09T11:40:58.947559",
     "status": "completed"
    },
    "tags": []
   },
   "source": [
    "We’re going to create that index with one line, and then we’re going to create the retrieval QA chain by specifying the language model, the chain type, the retriever, and then the verbosity that we’re going to print out."
   ]
  },
  {
   "cell_type": "code",
   "execution_count": 3,
   "id": "b7b12734",
   "metadata": {
    "execution": {
     "iopub.execute_input": "2024-06-09T11:40:59.011579Z",
     "iopub.status.busy": "2024-06-09T11:40:59.011109Z",
     "iopub.status.idle": "2024-06-09T11:41:25.364442Z",
     "shell.execute_reply": "2024-06-09T11:41:25.363012Z"
    },
    "papermill": {
     "duration": 26.381298,
     "end_time": "2024-06-09T11:41:25.367028",
     "exception": false,
     "start_time": "2024-06-09T11:40:58.985730",
     "status": "completed"
    },
    "tags": []
   },
   "outputs": [
    {
     "name": "stderr",
     "output_type": "stream",
     "text": [
      "/opt/conda/lib/python3.10/site-packages/langchain_core/_api/deprecation.py:119: LangChainDeprecationWarning: The class `OpenAIEmbeddings` was deprecated in LangChain 0.0.9 and will be removed in 0.3.0. An updated version of the class exists in the langchain-openai package and should be used instead. To use it run `pip install -U langchain-openai` and import as `from langchain_openai import OpenAIEmbeddings`.\n",
      "  warn_deprecated(\n",
      "2024-06-09 11:41:08.300437: E external/local_xla/xla/stream_executor/cuda/cuda_dnn.cc:9261] Unable to register cuDNN factory: Attempting to register factory for plugin cuDNN when one has already been registered\n",
      "2024-06-09 11:41:08.300604: E external/local_xla/xla/stream_executor/cuda/cuda_fft.cc:607] Unable to register cuFFT factory: Attempting to register factory for plugin cuFFT when one has already been registered\n",
      "2024-06-09 11:41:08.472030: E external/local_xla/xla/stream_executor/cuda/cuda_blas.cc:1515] Unable to register cuBLAS factory: Attempting to register factory for plugin cuBLAS when one has already been registered\n",
      "/opt/conda/lib/python3.10/site-packages/pydantic/_migration.py:283: UserWarning: `pydantic.error_wrappers:ValidationError` has been moved to `pydantic:ValidationError`.\n",
      "  warnings.warn(f'`{import_path}` has been moved to `{new_location}`.')\n",
      "INFO - docarray - DB config created\n",
      "INFO - docarray - Runtime config created\n",
      "INFO - docarray - No docs or index file provided. Initializing empty InMemoryExactNNIndex.\n",
      "/opt/conda/lib/python3.10/site-packages/langchain_core/_api/deprecation.py:119: LangChainDeprecationWarning: The class `ChatOpenAI` was deprecated in LangChain 0.0.10 and will be removed in 0.3.0. An updated version of the class exists in the langchain-openai package and should be used instead. To use it run `pip install -U langchain-openai` and import as `from langchain_openai import ChatOpenAI`.\n",
      "  warn_deprecated(\n"
     ]
    }
   ],
   "source": [
    "from langchain.embeddings import OpenAIEmbeddings\n",
    "# Initialize the embedding model\n",
    "embedding_model = OpenAIEmbeddings(model=\"text-embedding-ada-002\", openai_api_key=openai.api_key)  # Specify the model name\n",
    "\n",
    "# Create the vector store index\n",
    "index = VectorstoreIndexCreator(\n",
    "    vectorstore_cls=DocArrayInMemorySearch,\n",
    "    embedding=embedding_model  # Include the embedding model\n",
    ").from_loaders([loader])\n",
    "\n",
    "# Initialize the language model\n",
    "llm = ChatOpenAI(temperature=0.9, model=llm_model, openai_api_key=openai.api_key)\n",
    "\n",
    "# Create the QA chain\n",
    "qa = RetrievalQA.from_chain_type(\n",
    "    llm=llm, \n",
    "    chain_type=\"stuff\", \n",
    "    retriever=index.vectorstore.as_retriever(), \n",
    "    verbose=True,\n",
    "    chain_type_kwargs={\n",
    "        \"document_separator\": \"<<<<>>>>>\"\n",
    "    }\n",
    ")\n"
   ]
  },
  {
   "cell_type": "markdown",
   "id": "2087fd52",
   "metadata": {
    "papermill": {
     "duration": 0.018009,
     "end_time": "2024-06-09T11:41:25.403735",
     "exception": false,
     "start_time": "2024-06-09T11:41:25.385726",
     "status": "completed"
    },
    "tags": []
   },
   "source": [
    "Now that we have our application set, we need to figure out what are some data points that we want to evaluate it on. "
   ]
  },
  {
   "cell_type": "markdown",
   "id": "7c1399a0",
   "metadata": {
    "papermill": {
     "duration": 0.018377,
     "end_time": "2024-06-09T11:41:25.440266",
     "exception": false,
     "start_time": "2024-06-09T11:41:25.421889",
     "status": "completed"
    },
    "tags": []
   },
   "source": [
    "<a id=\"2\"></a>\n",
    "# <div style=\"box-shadow: rgba(0, 0, 0, 0.16) 0px 1px 4px inset, rgb(51, 51, 51) 0px 0px 0px 3px inset; padding:20px; font-size:32px; font-family: consolas; text-align:center; display:fill; border-radius:15px;  color:rgb(34, 34, 34);\"> <b> 2. Manual Evaluation & Debugging </b></div>\n",
    "\n",
    "We will start with the simplest method of debugging, in which we will come up with data points that we think are good examples and test them. We can just look at some of the data and come up with example questions and then example ground truth answers that we can later use to evaluate. \n",
    "\n",
    "So if we look at a few of the documents here, We can get a sense of what’s going on inside them. We are using the How to Build a Career in AI document by Andrew NG. "
   ]
  },
  {
   "cell_type": "code",
   "execution_count": 4,
   "id": "2762fbd0",
   "metadata": {
    "execution": {
     "iopub.execute_input": "2024-06-09T11:41:25.479425Z",
     "iopub.status.busy": "2024-06-09T11:41:25.478979Z",
     "iopub.status.idle": "2024-06-09T11:41:25.488072Z",
     "shell.execute_reply": "2024-06-09T11:41:25.486862Z"
    },
    "papermill": {
     "duration": 0.032253,
     "end_time": "2024-06-09T11:41:25.491014",
     "exception": false,
     "start_time": "2024-06-09T11:41:25.458761",
     "status": "completed"
    },
    "tags": []
   },
   "outputs": [
    {
     "data": {
      "text/plain": [
       "Document(page_content='PAGE 11\\nThe Best Way to Build \\na New Habit\\nOne of my favorite books is BJ Fogg’s, Tiny Habits: The Small Changes That Change \\nEverything. Fogg explains that the best way to build a new habit is to start small \\nand succeed, rather than start  too big and fail. For example, rather than trying to \\nexercise for 30 minutes a day, he recommends aspiring to do just one push-up, and \\ndoing it consistently.\\nThis approach may be helpful to those of you who want to spend more time studying. \\nIf you start by holding yourself accountable for watching, say, 10 seconds of an \\neducational video every day — and you do so consistently — the habit of studying daily \\nwill grow naturally. Even if you learn nothing in that 10 seconds, you’re establishing the \\nhabit of studying a little every day. On some days, maybe you’ll end up studying for an \\nhour or longer.', metadata={'source': '/kaggle/input/how-to-build-a-career-in-ai-pdf/eBook-How-to-Build-a-Career-in-AI.pdf', 'page': 10})"
      ]
     },
     "execution_count": 4,
     "metadata": {},
     "output_type": "execute_result"
    }
   ],
   "source": [
    "data[10]"
   ]
  },
  {
   "cell_type": "markdown",
   "id": "e25c2735",
   "metadata": {
    "papermill": {
     "duration": 0.018037,
     "end_time": "2024-06-09T11:41:25.528834",
     "exception": false,
     "start_time": "2024-06-09T11:41:25.510797",
     "status": "completed"
    },
    "tags": []
   },
   "source": [
    "This part of the document discusses th importance of continuous learning and developing the habit of learning."
   ]
  },
  {
   "cell_type": "code",
   "execution_count": 5,
   "id": "0396db58",
   "metadata": {
    "execution": {
     "iopub.execute_input": "2024-06-09T11:41:25.568149Z",
     "iopub.status.busy": "2024-06-09T11:41:25.567721Z",
     "iopub.status.idle": "2024-06-09T11:41:25.576197Z",
     "shell.execute_reply": "2024-06-09T11:41:25.574951Z"
    },
    "papermill": {
     "duration": 0.031197,
     "end_time": "2024-06-09T11:41:25.578814",
     "exception": false,
     "start_time": "2024-06-09T11:41:25.547617",
     "status": "completed"
    },
    "tags": []
   },
   "outputs": [
    {
     "data": {
      "text/plain": [
       "Document(page_content='PAGE 9In the previous chapter, I introduced three key steps for building a career in AI: learning \\nfoundational technical skills, working on projects, and finding a job, all of which is supported \\nby being part of a community. In this chapter, I’d like to dive more deeply into the first step: \\nlearning foundational skills.\\nMore research papers have been published on AI than anyone can read in a lifetime. So, when \\nlearning, it’s critical to prioritize topic selection. I believe the most important topics for a technical \\ncareer in machine learning are:\\nFoundational machine learning skills: For example, it’s important to understand models such \\nas linear regression, logistic regression, neural networks, decision trees, clustering, and anomaly \\ndetection. Beyond specific models, it’s even more important to understand the core concepts \\nbehind how and why machine learning works, such as bias/variance, cost functions, regularization, \\noptimization algorithms, and error analysis.\\nDeep learning: This has become such a large fraction of machine learning that it’s hard to excel \\nin the field without some understanding of it! It’s valuable to know the basics of neural networks, \\npractical skills for making them work (such as hyperparameter tuning), convolutional networks, \\nsequence models, and transformers.\\nSoftware development: While you can get a job and make huge contributions with only machine \\nlearning modeling skills, your job opportunities will increase if you can also write good software \\nto implement complex AI systems. These skills include programming fundamentals, data \\nstructures (especially those that relate to machine learning, such as data frames), algorithms \\n(including those related to databases and data manipulation), software design, familiarity with \\nPython, and familiarity with key libraries such as TensorFlow or PyTorch, and scikit-learn.Math relevant to machine learning:  Key areas include linear algebra (vectors, matrices, and various \\nmanipulations of them) as well as probability and statistics (including discrete and continuous \\nprobability, standard probability distributions, basic rules such as independence and Bayes’ rule, \\nand hypothesis testing). In addition, exploratory data analysis (EDA) — using visualizations and other \\nmethods to systematically explore a dataset — is an underrated skill. I’ve found EDA particularly \\nuseful in data-centric AI development, where analyzing errors and gaining insights can really help \\ndrive progress! Finally, a basic intuitive understanding of calculus will also help. The math needed \\nto do machine learning well has been changing. For instance, although some tasks require calculus, \\nimproved automatic differentiation software makes it possible to invent and implement new neural \\nnetwork architectures without doing any calculus. This was almost impossible a decade ago.Learning Technical Skills For a Promising AI Career CHAPTER 2', metadata={'source': '/kaggle/input/how-to-build-a-career-in-ai-pdf/eBook-How-to-Build-a-Career-in-AI.pdf', 'page': 8})"
      ]
     },
     "execution_count": 5,
     "metadata": {},
     "output_type": "execute_result"
    }
   ],
   "source": [
    "data[8]"
   ]
  },
  {
   "cell_type": "markdown",
   "id": "281342cd",
   "metadata": {
    "papermill": {
     "duration": 0.018628,
     "end_time": "2024-06-09T11:41:25.616474",
     "exception": false,
     "start_time": "2024-06-09T11:41:25.597846",
     "status": "completed"
    },
    "tags": []
   },
   "source": [
    "The second page explores the different skills you need to start a career in AI and data science. So the first one we can ask is a simple question Is machine learning foundations the most important skill? \n",
    "\n",
    "for the second one, we can ask what are the Python frameworks you need to learn. The answer to this question is in the second document."
   ]
  },
  {
   "cell_type": "code",
   "execution_count": 6,
   "id": "28472e50",
   "metadata": {
    "execution": {
     "iopub.execute_input": "2024-06-09T11:41:25.657358Z",
     "iopub.status.busy": "2024-06-09T11:41:25.656881Z",
     "iopub.status.idle": "2024-06-09T11:41:25.662943Z",
     "shell.execute_reply": "2024-06-09T11:41:25.661744Z"
    },
    "papermill": {
     "duration": 0.030141,
     "end_time": "2024-06-09T11:41:25.665816",
     "exception": false,
     "start_time": "2024-06-09T11:41:25.635675",
     "status": "completed"
    },
    "tags": []
   },
   "outputs": [],
   "source": [
    "examples = [\n",
    "    {\n",
    "        \"query\": \"Is machine learning foundations the most important skill?\",\n",
    "        \"answer\": \"Yes\"\n",
    "    },\n",
    "    {\n",
    "        \"query\": \"What are Python frameworks you need to learn ?\",\n",
    "        \"answer\": \"Tensorflow and PyTorch\"\n",
    "    }\n",
    "]"
   ]
  },
  {
   "cell_type": "markdown",
   "id": "12b4fca5",
   "metadata": {
    "papermill": {
     "duration": 0.01831,
     "end_time": "2024-06-09T11:41:25.703842",
     "exception": false,
     "start_time": "2024-06-09T11:41:25.685532",
     "status": "completed"
    },
    "tags": []
   },
   "source": [
    "But this doesn’t scale that. It takes a bit of time to look through each example and figure out what’s going on. So a better way to do that is to automate it. \n",
    "\n",
    "<a id=\"3\"></a>\n",
    "# <div style=\"box-shadow: rgba(0, 0, 0, 0.16) 0px 1px 4px inset, rgb(51, 51, 51) 0px 0px 0px 3px inset; padding:20px; font-size:32px; font-family: consolas; text-align:center; display:fill; border-radius:15px;  color:rgb(34, 34, 34);\"> <b> 3. LLM-Assisted Evaluation </b></div>\n",
    "\n",
    "One of the methods that we can automate the evaluation process is with LLM themselves. We have a chain in Langchain that can do exactly that. So we can import the QA generation chain, and this will take in documents and will create a question-answer pair from each document. It’ll do this using a language model itself. So we need to create this chain by passing in the chat open AI language model. "
   ]
  },
  {
   "cell_type": "code",
   "execution_count": 7,
   "id": "7f4a9865",
   "metadata": {
    "execution": {
     "iopub.execute_input": "2024-06-09T11:41:25.743812Z",
     "iopub.status.busy": "2024-06-09T11:41:25.743388Z",
     "iopub.status.idle": "2024-06-09T11:41:25.949743Z",
     "shell.execute_reply": "2024-06-09T11:41:25.948299Z"
    },
    "papermill": {
     "duration": 0.229904,
     "end_time": "2024-06-09T11:41:25.952549",
     "exception": false,
     "start_time": "2024-06-09T11:41:25.722645",
     "status": "completed"
    },
    "tags": []
   },
   "outputs": [],
   "source": [
    "from langchain.evaluation.qa import QAGenerateChain\n"
   ]
  },
  {
   "cell_type": "markdown",
   "id": "bcfec5e5",
   "metadata": {
    "papermill": {
     "duration": 0.020528,
     "end_time": "2024-06-09T11:41:25.991752",
     "exception": false,
     "start_time": "2024-06-09T11:41:25.971224",
     "status": "completed"
    },
    "tags": []
   },
   "source": [
    "Then from there, we can create a list of examples. "
   ]
  },
  {
   "cell_type": "code",
   "execution_count": 8,
   "id": "06b7d2fe",
   "metadata": {
    "execution": {
     "iopub.execute_input": "2024-06-09T11:41:26.036687Z",
     "iopub.status.busy": "2024-06-09T11:41:26.036251Z",
     "iopub.status.idle": "2024-06-09T11:41:26.072627Z",
     "shell.execute_reply": "2024-06-09T11:41:26.071016Z"
    },
    "papermill": {
     "duration": 0.061726,
     "end_time": "2024-06-09T11:41:26.075643",
     "exception": false,
     "start_time": "2024-06-09T11:41:26.013917",
     "status": "completed"
    },
    "tags": []
   },
   "outputs": [],
   "source": [
    "example_gen_chain = QAGenerateChain.from_llm(ChatOpenAI(model=llm_model, openai_api_key=openai.api_key))\n"
   ]
  },
  {
   "cell_type": "markdown",
   "id": "6360081b",
   "metadata": {
    "papermill": {
     "duration": 0.018267,
     "end_time": "2024-06-09T11:41:26.112743",
     "exception": false,
     "start_time": "2024-06-09T11:41:26.094476",
     "status": "completed"
    },
    "tags": []
   },
   "source": [
    "We are going to use the apply and parse method because this is applying an output parser to the result because we want to get back a dictionary that has the query and answer pair, not just a single string. "
   ]
  },
  {
   "cell_type": "code",
   "execution_count": 9,
   "id": "87fbfd6e",
   "metadata": {
    "execution": {
     "iopub.execute_input": "2024-06-09T11:41:26.151990Z",
     "iopub.status.busy": "2024-06-09T11:41:26.151559Z",
     "iopub.status.idle": "2024-06-09T11:41:34.014750Z",
     "shell.execute_reply": "2024-06-09T11:41:34.013059Z"
    },
    "papermill": {
     "duration": 7.886491,
     "end_time": "2024-06-09T11:41:34.017909",
     "exception": false,
     "start_time": "2024-06-09T11:41:26.131418",
     "status": "completed"
    },
    "tags": []
   },
   "outputs": [
    {
     "name": "stderr",
     "output_type": "stream",
     "text": [
      "/opt/conda/lib/python3.10/site-packages/langchain/chains/llm.py:367: UserWarning: The apply_and_parse method is deprecated, instead pass an output parser directly to LLMChain.\n",
      "  warnings.warn(\n"
     ]
    },
    {
     "data": {
      "text/plain": [
       "{'qa_pairs': {'query': 'According to the document, who is the founder of DeepLearning.AI?',\n",
       "  'answer': 'The founder of DeepLearning.AI is Andrew Ng, as mentioned in the document.'}}"
      ]
     },
     "execution_count": 9,
     "metadata": {},
     "output_type": "execute_result"
    }
   ],
   "source": [
    "new_examples = example_gen_chain.apply_and_parse(\n",
    "    [{\"doc\": t} for t in data[:5]]\n",
    ")\n",
    "new_examples[0]"
   ]
  },
  {
   "cell_type": "markdown",
   "id": "99cc2afc",
   "metadata": {
    "papermill": {
     "duration": 0.019821,
     "end_time": "2024-06-09T11:41:34.057649",
     "exception": false,
     "start_time": "2024-06-09T11:41:34.037828",
     "status": "completed"
    },
    "tags": []
   },
   "source": [
    "And so now if we look at what exactly is returned here, we can see a query and we can see an answer. Let’s check the document that this is a question and answer for. "
   ]
  },
  {
   "cell_type": "code",
   "execution_count": 10,
   "id": "c8c3065e",
   "metadata": {
    "execution": {
     "iopub.execute_input": "2024-06-09T11:41:34.100427Z",
     "iopub.status.busy": "2024-06-09T11:41:34.099972Z",
     "iopub.status.idle": "2024-06-09T11:41:34.108606Z",
     "shell.execute_reply": "2024-06-09T11:41:34.107250Z"
    },
    "papermill": {
     "duration": 0.032964,
     "end_time": "2024-06-09T11:41:34.111763",
     "exception": false,
     "start_time": "2024-06-09T11:41:34.078799",
     "status": "completed"
    },
    "tags": []
   },
   "outputs": [
    {
     "data": {
      "text/plain": [
       "Document(page_content='PAGE 1Founder, DeepLearning.AICollected Insights\\nfrom Andrew Ng\\nHow to \\nBuild\\nYour\\nCareer\\nin AIA Simple Guide\\n', metadata={'source': '/kaggle/input/how-to-build-a-career-in-ai-pdf/eBook-How-to-Build-a-Career-in-AI.pdf', 'page': 0})"
      ]
     },
     "execution_count": 10,
     "metadata": {},
     "output_type": "execute_result"
    }
   ],
   "source": [
    "data[0]\n"
   ]
  },
  {
   "cell_type": "markdown",
   "id": "3d78d2d5",
   "metadata": {
    "papermill": {
     "duration": 0.018868,
     "end_time": "2024-06-09T11:41:34.150106",
     "exception": false,
     "start_time": "2024-06-09T11:41:34.131238",
     "status": "completed"
    },
    "tags": []
   },
   "source": [
    "We just generated a bunch of question-answer pairs. We won’t have to write it all ourselves which will save us a lot of time and we can do more testing cases. Now let’s go ahead and add these examples into the examples that we already created."
   ]
  },
  {
   "cell_type": "code",
   "execution_count": 11,
   "id": "e514f49f",
   "metadata": {
    "execution": {
     "iopub.execute_input": "2024-06-09T11:41:34.192728Z",
     "iopub.status.busy": "2024-06-09T11:41:34.192262Z",
     "iopub.status.idle": "2024-06-09T11:41:34.198475Z",
     "shell.execute_reply": "2024-06-09T11:41:34.196969Z"
    },
    "papermill": {
     "duration": 0.030783,
     "end_time": "2024-06-09T11:41:34.201254",
     "exception": false,
     "start_time": "2024-06-09T11:41:34.170471",
     "status": "completed"
    },
    "tags": []
   },
   "outputs": [],
   "source": [
    "examples += new_examples\n"
   ]
  },
  {
   "cell_type": "code",
   "execution_count": 12,
   "id": "751b0e00",
   "metadata": {
    "execution": {
     "iopub.execute_input": "2024-06-09T11:41:34.312210Z",
     "iopub.status.busy": "2024-06-09T11:41:34.311669Z",
     "iopub.status.idle": "2024-06-09T11:41:34.321509Z",
     "shell.execute_reply": "2024-06-09T11:41:34.319897Z"
    },
    "papermill": {
     "duration": 0.034763,
     "end_time": "2024-06-09T11:41:34.324291",
     "exception": false,
     "start_time": "2024-06-09T11:41:34.289528",
     "status": "completed"
    },
    "tags": []
   },
   "outputs": [
    {
     "data": {
      "text/plain": [
       "[{'query': 'Is machine learning foundations the most important skill?',\n",
       "  'answer': 'Yes'},\n",
       " {'query': 'What are Python frameworks you need to learn ?',\n",
       "  'answer': 'Tensorflow and PyTorch'},\n",
       " {'qa_pairs': {'query': 'According to the document, who is the founder of DeepLearning.AI?',\n",
       "   'answer': 'The founder of DeepLearning.AI is Andrew Ng, as mentioned in the document.'}},\n",
       " {'qa_pairs': {'query': 'According to Andrew Ng in the document, what is AI compared to and how does he believe it will impact human life?',\n",
       "   'answer': 'Andrew Ng compares AI to the new electricity and believes that it will transform and improve all areas of human life.'}},\n",
       " {'qa_pairs': {'query': 'According to the document, what are the key topics covered in the chapters of the book \"How to Build a Career in AI\"?',\n",
       "   'answer': 'The key topics covered in the chapters of the book \"How to Build a Career in AI\" include: '}},\n",
       " {'qa_pairs': {'query': \"According to the document, what is the author's comparison between traditional literacy and coding literacy?\",\n",
       "   'answer': 'The author compares traditional literacy, which took centuries to spread and enables deep human-to-human communication, to coding literacy, specifically for AI, which is described as the deepest form of human-to-machine communication and becoming ever more important as machines become more central to daily life.'}},\n",
       " {'qa_pairs': {'query': 'According to the document, how many steps are outlined for career growth?',\n",
       "   'answer': 'Three steps are outlined for career growth in the document: \"Three Steps to Career Growth.\"'}}]"
      ]
     },
     "execution_count": 12,
     "metadata": {},
     "output_type": "execute_result"
    }
   ],
   "source": [
    "examples"
   ]
  },
  {
   "cell_type": "markdown",
   "id": "33ec8aed",
   "metadata": {
    "papermill": {
     "duration": 0.019881,
     "end_time": "2024-06-09T11:41:34.364711",
     "exception": false,
     "start_time": "2024-06-09T11:41:34.344830",
     "status": "completed"
    },
    "tags": []
   },
   "source": [
    "So we got these examples now, but how exactly do we evaluate what’s going on? The first thing we want to do is just run an example through the chain and take a look at the output it produces. "
   ]
  },
  {
   "cell_type": "code",
   "execution_count": 13,
   "id": "90b91f8d",
   "metadata": {
    "execution": {
     "iopub.execute_input": "2024-06-09T11:41:34.406960Z",
     "iopub.status.busy": "2024-06-09T11:41:34.406492Z",
     "iopub.status.idle": "2024-06-09T11:41:35.902193Z",
     "shell.execute_reply": "2024-06-09T11:41:35.900969Z"
    },
    "papermill": {
     "duration": 1.520286,
     "end_time": "2024-06-09T11:41:35.904799",
     "exception": false,
     "start_time": "2024-06-09T11:41:34.384513",
     "status": "completed"
    },
    "tags": []
   },
   "outputs": [
    {
     "name": "stderr",
     "output_type": "stream",
     "text": [
      "/opt/conda/lib/python3.10/site-packages/langchain_core/_api/deprecation.py:119: LangChainDeprecationWarning: The method `Chain.run` was deprecated in langchain 0.1.0 and will be removed in 0.3.0. Use invoke instead.\n",
      "  warn_deprecated(\n"
     ]
    },
    {
     "name": "stdout",
     "output_type": "stream",
     "text": [
      "\n",
      "\n",
      "\u001b[1m> Entering new RetrievalQA chain...\u001b[0m\n",
      "\n",
      "\u001b[1m> Finished chain.\u001b[0m\n"
     ]
    },
    {
     "data": {
      "text/plain": [
       "'Yes, having a strong foundation in machine learning is indeed considered one of the most important skills for a career in AI. Understanding foundational machine learning skills, as well as deep learning concepts and software development, are key components to excel in the field of machine learning.'"
      ]
     },
     "execution_count": 13,
     "metadata": {},
     "output_type": "execute_result"
    }
   ],
   "source": [
    "qa.run(examples[0][\"query\"])\n"
   ]
  },
  {
   "cell_type": "markdown",
   "id": "4f7c98d9",
   "metadata": {
    "papermill": {
     "duration": 0.019511,
     "end_time": "2024-06-09T11:41:35.944176",
     "exception": false,
     "start_time": "2024-06-09T11:41:35.924665",
     "status": "completed"
    },
    "tags": []
   },
   "source": [
    "When we input a query, we receive an answer. However, this approach limits our visibility into the chain’s inner workings. What exact prompt is fed into the language model? Which documents does it fetch? \n",
    "\n",
    "In more complex chains with multiple steps, what intermediate results are generated? Simply observing the final answer often isn’t sufficient for understanding potential issues within the chain. To address this, we have a helpful utility in Lane Chain called Lane Chain Debug."
   ]
  },
  {
   "cell_type": "markdown",
   "id": "093076ea",
   "metadata": {
    "papermill": {
     "duration": 0.021317,
     "end_time": "2024-06-09T11:41:35.986273",
     "exception": false,
     "start_time": "2024-06-09T11:41:35.964956",
     "status": "completed"
    },
    "tags": []
   },
   "source": [
    "<a id=\"4\"></a>\n",
    "# <div style=\"box-shadow: rgba(0, 0, 0, 0.16) 0px 1px 4px inset, rgb(51, 51, 51) 0px 0px 0px 3px inset; padding:20px; font-size:32px; font-family: consolas; text-align:center; display:fill; border-radius:15px;  color:rgb(34, 34, 34);\"> <b> 4. Observing Behind the Scenes </b></div>\n",
    "\n",
    "\n",
    "If we want to observe what is happening behind the scenes we can set the LangChain debug equals to true, and we now rerun the same example as above, we can see that it starts printing out a lot more information. "
   ]
  },
  {
   "cell_type": "code",
   "execution_count": 14,
   "id": "88fa220d",
   "metadata": {
    "execution": {
     "iopub.execute_input": "2024-06-09T11:41:36.036340Z",
     "iopub.status.busy": "2024-06-09T11:41:36.035815Z",
     "iopub.status.idle": "2024-06-09T11:41:37.445081Z",
     "shell.execute_reply": "2024-06-09T11:41:37.443501Z"
    },
    "papermill": {
     "duration": 1.437922,
     "end_time": "2024-06-09T11:41:37.448000",
     "exception": false,
     "start_time": "2024-06-09T11:41:36.010078",
     "status": "completed"
    },
    "tags": []
   },
   "outputs": [
    {
     "name": "stdout",
     "output_type": "stream",
     "text": [
      "\u001b[32;1m\u001b[1;3m[chain/start]\u001b[0m \u001b[1m[chain:RetrievalQA] Entering Chain run with input:\n",
      "\u001b[0m{\n",
      "  \"query\": \"Is machine learning foundations the most important skill?\"\n",
      "}\n",
      "\u001b[32;1m\u001b[1;3m[chain/start]\u001b[0m \u001b[1m[chain:RetrievalQA > chain:StuffDocumentsChain] Entering Chain run with input:\n",
      "\u001b[0m[inputs]\n",
      "\u001b[32;1m\u001b[1;3m[chain/start]\u001b[0m \u001b[1m[chain:RetrievalQA > chain:StuffDocumentsChain > chain:LLMChain] Entering Chain run with input:\n",
      "\u001b[0m{\n",
      "  \"question\": \"Is machine learning foundations the most important skill?\",\n",
      "  \"context\": \"PAGE 9In the previous chapter, I introduced three key steps for building a career in AI: learning \\nfoundational technical skills, working on projects, and finding a job, all of which is supported \\nby being part of a community. In this chapter, I’d like to dive more deeply into the first step: \\nlearning foundational skills.\\nMore research papers have been published on AI than anyone can read in a lifetime. So, when \\nlearning, it’s critical to prioritize topic selection. I believe the most important topics for a technical \\ncareer in machine learning are:\\nFoundational machine learning skills: For example, it’s important to understand models such \\nas linear regression, logistic regression, neural networks, decision trees, clustering, and anomaly \\ndetection. Beyond specific models, it’s even more important to understand the core concepts \\nbehind how and why machine learning works, such as bias/variance, cost functions, regularization, \\noptimization algorithms, and error analysis.<<<<>>>>>Deep learning: This has become such a large fraction of machine learning that it’s hard to excel \\nin the field without some understanding of it! It’s valuable to know the basics of neural networks, \\npractical skills for making them work (such as hyperparameter tuning), convolutional networks, \\nsequence models, and transformers.\\nSoftware development: While you can get a job and make huge contributions with only machine \\nlearning modeling skills, your job opportunities will increase if you can also write good software \\nto implement complex AI systems. These skills include programming fundamentals, data \\nstructures (especially those that relate to machine learning, such as data frames), algorithms \\n(including those related to databases and data manipulation), software design, familiarity with \\nPython, and familiarity with key libraries such as TensorFlow or PyTorch, and scikit-learn.Math relevant to machine learning:  Key areas include linear algebra (vectors, matrices, and various<<<<>>>>>PAGE 13Should you Learn Math to Get a Job in AI? CHAPTER 3\\nIs math a foundational skill for AI? It’s always nice to know more math! But there’s so much to \\nlearn that, realistically, it’s necessary to prioritize. Here’s how you might go about strengthening \\nyour math background.\\nTo figure out what’s important to know, I find it useful to ask what you need to know to make \\nthe decisions required for the work you want to do. At DeepLearning.AI, we frequently ask, \\n“What does someone need to know to accomplish their goals?” The goal might be building a \\nmachine learning model, architecting a system, or passing a job interview.\\nUnderstanding the math behind algorithms you use is often helpful, since it enables you to \\ndebug them. But the depth of knowledge that’s useful changes over time. As machine learning \\ntechniques mature and become more reliable and turnkey, they require less debugging, and a \\nshallower understanding of the math involved may be sufficient to make them work.<<<<>>>>>and learn it regardless of how useful it might turn out to be!  Maybe this will lead to a creative \\nspark or technical breakthrough.How much math do you need to know to be a machine learning engineer?\"\n",
      "}\n",
      "\u001b[32;1m\u001b[1;3m[llm/start]\u001b[0m \u001b[1m[chain:RetrievalQA > chain:StuffDocumentsChain > chain:LLMChain > llm:ChatOpenAI] Entering LLM run with input:\n",
      "\u001b[0m{\n",
      "  \"prompts\": [\n",
      "    \"System: Use the following pieces of context to answer the user's question. \\nIf you don't know the answer, just say that you don't know, don't try to make up an answer.\\n----------------\\nPAGE 9In the previous chapter, I introduced three key steps for building a career in AI: learning \\nfoundational technical skills, working on projects, and finding a job, all of which is supported \\nby being part of a community. In this chapter, I’d like to dive more deeply into the first step: \\nlearning foundational skills.\\nMore research papers have been published on AI than anyone can read in a lifetime. So, when \\nlearning, it’s critical to prioritize topic selection. I believe the most important topics for a technical \\ncareer in machine learning are:\\nFoundational machine learning skills: For example, it’s important to understand models such \\nas linear regression, logistic regression, neural networks, decision trees, clustering, and anomaly \\ndetection. Beyond specific models, it’s even more important to understand the core concepts \\nbehind how and why machine learning works, such as bias/variance, cost functions, regularization, \\noptimization algorithms, and error analysis.<<<<>>>>>Deep learning: This has become such a large fraction of machine learning that it’s hard to excel \\nin the field without some understanding of it! It’s valuable to know the basics of neural networks, \\npractical skills for making them work (such as hyperparameter tuning), convolutional networks, \\nsequence models, and transformers.\\nSoftware development: While you can get a job and make huge contributions with only machine \\nlearning modeling skills, your job opportunities will increase if you can also write good software \\nto implement complex AI systems. These skills include programming fundamentals, data \\nstructures (especially those that relate to machine learning, such as data frames), algorithms \\n(including those related to databases and data manipulation), software design, familiarity with \\nPython, and familiarity with key libraries such as TensorFlow or PyTorch, and scikit-learn.Math relevant to machine learning:  Key areas include linear algebra (vectors, matrices, and various<<<<>>>>>PAGE 13Should you Learn Math to Get a Job in AI? CHAPTER 3\\nIs math a foundational skill for AI? It’s always nice to know more math! But there’s so much to \\nlearn that, realistically, it’s necessary to prioritize. Here’s how you might go about strengthening \\nyour math background.\\nTo figure out what’s important to know, I find it useful to ask what you need to know to make \\nthe decisions required for the work you want to do. At DeepLearning.AI, we frequently ask, \\n“What does someone need to know to accomplish their goals?” The goal might be building a \\nmachine learning model, architecting a system, or passing a job interview.\\nUnderstanding the math behind algorithms you use is often helpful, since it enables you to \\ndebug them. But the depth of knowledge that’s useful changes over time. As machine learning \\ntechniques mature and become more reliable and turnkey, they require less debugging, and a \\nshallower understanding of the math involved may be sufficient to make them work.<<<<>>>>>and learn it regardless of how useful it might turn out to be!  Maybe this will lead to a creative \\nspark or technical breakthrough.How much math do you need to know to be a machine learning engineer?\\nHuman: Is machine learning foundations the most important skill?\"\n",
      "  ]\n",
      "}\n",
      "\u001b[36;1m\u001b[1;3m[llm/end]\u001b[0m \u001b[1m[chain:RetrievalQA > chain:StuffDocumentsChain > chain:LLMChain > llm:ChatOpenAI] [1.23s] Exiting LLM run with output:\n",
      "\u001b[0m{\n",
      "  \"generations\": [\n",
      "    [\n",
      "      {\n",
      "        \"text\": \"Yes, foundational machine learning skills are considered crucial for a technical career in AI. Understanding concepts like linear regression, neural networks, decision trees, and core principles behind machine learning is essential for building a career in the field.\",\n",
      "        \"generation_info\": {\n",
      "          \"finish_reason\": \"stop\",\n",
      "          \"logprobs\": null\n",
      "        },\n",
      "        \"type\": \"ChatGeneration\",\n",
      "        \"message\": {\n",
      "          \"lc\": 1,\n",
      "          \"type\": \"constructor\",\n",
      "          \"id\": [\n",
      "            \"langchain\",\n",
      "            \"schema\",\n",
      "            \"messages\",\n",
      "            \"AIMessage\"\n",
      "          ],\n",
      "          \"kwargs\": {\n",
      "            \"content\": \"Yes, foundational machine learning skills are considered crucial for a technical career in AI. Understanding concepts like linear regression, neural networks, decision trees, and core principles behind machine learning is essential for building a career in the field.\",\n",
      "            \"response_metadata\": {\n",
      "              \"token_usage\": {\n",
      "                \"completion_tokens\": 44,\n",
      "                \"prompt_tokens\": 710,\n",
      "                \"total_tokens\": 754\n",
      "              },\n",
      "              \"model_name\": \"gpt-3.5-turbo\",\n",
      "              \"system_fingerprint\": null,\n",
      "              \"finish_reason\": \"stop\",\n",
      "              \"logprobs\": null\n",
      "            },\n",
      "            \"type\": \"ai\",\n",
      "            \"id\": \"run-48eae790-6ca1-42a7-a629-3280ff98279e-0\",\n",
      "            \"tool_calls\": [],\n",
      "            \"invalid_tool_calls\": []\n",
      "          }\n",
      "        }\n",
      "      }\n",
      "    ]\n",
      "  ],\n",
      "  \"llm_output\": {\n",
      "    \"token_usage\": {\n",
      "      \"completion_tokens\": 44,\n",
      "      \"prompt_tokens\": 710,\n",
      "      \"total_tokens\": 754\n",
      "    },\n",
      "    \"model_name\": \"gpt-3.5-turbo\",\n",
      "    \"system_fingerprint\": null\n",
      "  },\n",
      "  \"run\": null\n",
      "}\n",
      "\u001b[36;1m\u001b[1;3m[chain/end]\u001b[0m \u001b[1m[chain:RetrievalQA > chain:StuffDocumentsChain > chain:LLMChain] [1.23s] Exiting Chain run with output:\n",
      "\u001b[0m{\n",
      "  \"text\": \"Yes, foundational machine learning skills are considered crucial for a technical career in AI. Understanding concepts like linear regression, neural networks, decision trees, and core principles behind machine learning is essential for building a career in the field.\"\n",
      "}\n",
      "\u001b[36;1m\u001b[1;3m[chain/end]\u001b[0m \u001b[1m[chain:RetrievalQA > chain:StuffDocumentsChain] [1.24s] Exiting Chain run with output:\n",
      "\u001b[0m{\n",
      "  \"output_text\": \"Yes, foundational machine learning skills are considered crucial for a technical career in AI. Understanding concepts like linear regression, neural networks, decision trees, and core principles behind machine learning is essential for building a career in the field.\"\n",
      "}\n",
      "\u001b[36;1m\u001b[1;3m[chain/end]\u001b[0m \u001b[1m[chain:RetrievalQA] [1.40s] Exiting Chain run with output:\n",
      "\u001b[0m{\n",
      "  \"result\": \"Yes, foundational machine learning skills are considered crucial for a technical career in AI. Understanding concepts like linear regression, neural networks, decision trees, and core principles behind machine learning is essential for building a career in the field.\"\n",
      "}\n"
     ]
    },
    {
     "data": {
      "text/plain": [
       "'Yes, foundational machine learning skills are considered crucial for a technical career in AI. Understanding concepts like linear regression, neural networks, decision trees, and core principles behind machine learning is essential for building a career in the field.'"
      ]
     },
     "execution_count": 14,
     "metadata": {},
     "output_type": "execute_result"
    }
   ],
   "source": [
    "import langchain\n",
    "langchain.debug = True\n",
    "\n",
    "qa.run(examples[0][\"query\"])"
   ]
  },
  {
   "cell_type": "markdown",
   "id": "ab90cdfa",
   "metadata": {
    "papermill": {
     "duration": 0.0206,
     "end_time": "2024-06-09T11:41:37.489895",
     "exception": false,
     "start_time": "2024-06-09T11:41:37.469295",
     "status": "completed"
    },
    "tags": []
   },
   "source": [
    "When examining the output closely, we notice it first delves into the retrieval QA chain, followed by the documents chain. As mentioned, the method is utilized here. Subsequently, it enters the LLM chain, where various inputs are involved. The original question is evident, alongside the provided context, synthesized from multiple retrieved documents. \n",
    "\n",
    "In question-answering scenarios, errors often arise not from the language model itself, but from flaws in the retrieval process. Thus, scrutinizing the question and context aids in debugging. Further inspection reveals the inputs into the language model, Chat OpenAI itself.\n",
    "\n",
    "Here, we have the complete prompt passed in, comprising a system message and the prompt description utilized by the question-answering chain under the hood, which we haven’t explored until now. \n",
    "\n",
    "The prompt instructs to utilize specific context pieces for answering the user’s question and emphasizes not to fabricate answers if uncertain. Following this, we encounter the inserted context and the human question posed. \n",
    "\n",
    "Moreover, detailed information about the return type is provided, including token usage metrics such as prompt tokens, completion tokens, total tokens, and the model name. This data proves valuable for monitoring token usage in chains or language model calls over time, correlating closely with the total cost.\n",
    "\n",
    "Let's ask a language model to do it. First, we need to create predictions for all the examples. Then I’m going to create predictions for all the different examples. We are going to loop through this chain, getting a prediction for each one. "
   ]
  },
  {
   "cell_type": "code",
   "execution_count": 15,
   "id": "da34187a",
   "metadata": {
    "execution": {
     "iopub.execute_input": "2024-06-09T11:41:37.533423Z",
     "iopub.status.busy": "2024-06-09T11:41:37.532848Z",
     "iopub.status.idle": "2024-06-09T11:41:37.539243Z",
     "shell.execute_reply": "2024-06-09T11:41:37.538037Z"
    },
    "papermill": {
     "duration": 0.031947,
     "end_time": "2024-06-09T11:41:37.542310",
     "exception": false,
     "start_time": "2024-06-09T11:41:37.510363",
     "status": "completed"
    },
    "tags": []
   },
   "outputs": [],
   "source": [
    "# Turn off the debug mode\n",
    "langchain.debug = False"
   ]
  },
  {
   "cell_type": "code",
   "execution_count": 16,
   "id": "72904eb3",
   "metadata": {
    "execution": {
     "iopub.execute_input": "2024-06-09T11:41:37.591881Z",
     "iopub.status.busy": "2024-06-09T11:41:37.591347Z",
     "iopub.status.idle": "2024-06-09T11:41:49.204022Z",
     "shell.execute_reply": "2024-06-09T11:41:49.202644Z"
    },
    "papermill": {
     "duration": 11.640401,
     "end_time": "2024-06-09T11:41:49.207250",
     "exception": false,
     "start_time": "2024-06-09T11:41:37.566849",
     "status": "completed"
    },
    "tags": []
   },
   "outputs": [
    {
     "name": "stdout",
     "output_type": "stream",
     "text": [
      "{'query': 'Is machine learning foundations the most important skill?', 'answer': 'Yes'}\n",
      "{'query': 'What are Python frameworks you need to learn ?', 'answer': 'Tensorflow and PyTorch'}\n",
      "{'query': 'According to the document, who is the founder of DeepLearning.AI?', 'answer': 'The founder of DeepLearning.AI is Andrew Ng, as mentioned in the document.'}\n",
      "{'query': 'According to Andrew Ng in the document, what is AI compared to and how does he believe it will impact human life?', 'answer': 'Andrew Ng compares AI to the new electricity and believes that it will transform and improve all areas of human life.'}\n",
      "{'query': 'According to the document, what are the key topics covered in the chapters of the book \"How to Build a Career in AI\"?', 'answer': 'The key topics covered in the chapters of the book \"How to Build a Career in AI\" include: '}\n",
      "{'query': \"According to the document, what is the author's comparison between traditional literacy and coding literacy?\", 'answer': 'The author compares traditional literacy, which took centuries to spread and enables deep human-to-human communication, to coding literacy, specifically for AI, which is described as the deepest form of human-to-machine communication and becoming ever more important as machines become more central to daily life.'}\n",
      "{'query': 'According to the document, how many steps are outlined for career growth?', 'answer': 'Three steps are outlined for career growth in the document: \"Three Steps to Career Growth.\"'}\n",
      "\n",
      "\n",
      "\u001b[1m> Entering new RetrievalQA chain...\u001b[0m\n"
     ]
    },
    {
     "name": "stderr",
     "output_type": "stream",
     "text": [
      "/opt/conda/lib/python3.10/site-packages/langchain_core/_api/deprecation.py:119: LangChainDeprecationWarning: The method `Chain.apply` was deprecated in langchain 0.1.0 and will be removed in 0.3.0. Use batch instead.\n",
      "  warn_deprecated(\n"
     ]
    },
    {
     "name": "stdout",
     "output_type": "stream",
     "text": [
      "\n",
      "\u001b[1m> Finished chain.\u001b[0m\n",
      "\n",
      "\n",
      "\u001b[1m> Entering new RetrievalQA chain...\u001b[0m\n",
      "\n",
      "\u001b[1m> Finished chain.\u001b[0m\n",
      "\n",
      "\n",
      "\u001b[1m> Entering new RetrievalQA chain...\u001b[0m\n",
      "\n",
      "\u001b[1m> Finished chain.\u001b[0m\n",
      "\n",
      "\n",
      "\u001b[1m> Entering new RetrievalQA chain...\u001b[0m\n",
      "\n",
      "\u001b[1m> Finished chain.\u001b[0m\n",
      "\n",
      "\n",
      "\u001b[1m> Entering new RetrievalQA chain...\u001b[0m\n",
      "\n",
      "\u001b[1m> Finished chain.\u001b[0m\n",
      "\n",
      "\n",
      "\u001b[1m> Entering new RetrievalQA chain...\u001b[0m\n",
      "\n",
      "\u001b[1m> Finished chain.\u001b[0m\n",
      "\n",
      "\n",
      "\u001b[1m> Entering new RetrievalQA chain...\u001b[0m\n",
      "\n",
      "\u001b[1m> Finished chain.\u001b[0m\n",
      "[{'query': 'Is machine learning foundations the most important skill?', 'answer': 'Yes', 'result': 'Yes, foundational machine learning skills are considered one of the most important skills for a technical career in machine learning. Understanding models like linear regression, logistic regression, neural networks, decision trees, and more, along with core concepts like bias/variance, cost functions, regularization, and optimization algorithms are crucial for success in the field.'}, {'query': 'What are Python frameworks you need to learn ?', 'answer': 'Tensorflow and PyTorch', 'result': 'Some key Python frameworks that are important to learn for machine learning and artificial intelligence development include TensorFlow, PyTorch, and scikit-learn. These frameworks are widely used in the field and provide essential tools and resources for building and training machine learning models.'}, {'query': 'According to the document, who is the founder of DeepLearning.AI?', 'answer': 'The founder of DeepLearning.AI is Andrew Ng, as mentioned in the document.', 'result': 'The founder of DeepLearning.AI is Andrew Ng.'}, {'query': 'According to Andrew Ng in the document, what is AI compared to and how does he believe it will impact human life?', 'answer': 'Andrew Ng compares AI to the new electricity and believes that it will transform and improve all areas of human life.', 'result': 'According to the document, Andrew Ng compares AI to electricity and believes that AI will transform and improve all areas of human life.'}, {'query': 'According to the document, what are the key topics covered in the chapters of the book \"How to Build a Career in AI\"?', 'answer': 'The key topics covered in the chapters of the book \"How to Build a Career in AI\" include: ', 'result': 'The key topics covered in the chapters of the book \"How to Build a Career in AI\" include learning foundational technical skills, working on projects, finding a job, scoping successful AI projects, building a portfolio of projects, starting your AI job search, using informational interviews, finding the right AI job, keys to building a career in AI, and overcoming imposter syndrome.'}, {'query': \"According to the document, what is the author's comparison between traditional literacy and coding literacy?\", 'answer': 'The author compares traditional literacy, which took centuries to spread and enables deep human-to-human communication, to coding literacy, specifically for AI, which is described as the deepest form of human-to-machine communication and becoming ever more important as machines become more central to daily life.', 'result': 'The author compares traditional literacy (reading and writing) to coding literacy by highlighting that just as reading and writing were not initially seen as necessary skills for everyone in society, coding for AI is now emerging as a crucial form of literacy. The text suggests that as language literacy enabled deep human-to-human communication, coding for AI represents the deepest form of human-to-machine communication as machines become more central to daily life. The comparison is made to emphasize the importance of AI-oriented coding literacy alongside traditional literacy skills.'}, {'query': 'According to the document, how many steps are outlined for career growth?', 'answer': 'Three steps are outlined for career growth in the document: \"Three Steps to Career Growth.\"', 'result': 'Three steps are outlined for career growth in the document.'}]\n"
     ]
    }
   ],
   "source": [
    "# Preprocess examples to ensure 'query' is a top-level key\n",
    "processed_examples = []\n",
    "\n",
    "for example in examples:\n",
    "    if 'qa_pairs' in example:\n",
    "        processed_examples.append({\n",
    "            'query': example['qa_pairs']['query'],\n",
    "            'answer': example['qa_pairs']['answer']\n",
    "        })\n",
    "    else:\n",
    "        processed_examples.append(example)\n",
    "\n",
    "# Now all examples have a consistent structure\n",
    "for example in processed_examples:\n",
    "    print(example)\n",
    "\n",
    "# Assuming qa is an instance of QAEvalChain or a similar class\n",
    "predictions = qa.apply(processed_examples)\n",
    "print(predictions)\n"
   ]
  },
  {
   "cell_type": "markdown",
   "id": "dcd30a2c",
   "metadata": {
    "papermill": {
     "duration": 0.02218,
     "end_time": "2024-06-09T11:41:49.251417",
     "exception": false,
     "start_time": "2024-06-09T11:41:49.229237",
     "status": "completed"
    },
    "tags": []
   },
   "source": [
    "With these examples in hand, let’s consider evaluating them. First, we’ll import the QA question answering eval chain. Then, we’ll instantiate this chain with a language model, as we’ll utilize it for evaluation purposes. Subsequently, we’ll invoke the ‘evaluate’ function on this chain, passing in examples and predictions, and receive graded outputs in return."
   ]
  },
  {
   "cell_type": "code",
   "execution_count": 17,
   "id": "9dfa3496",
   "metadata": {
    "execution": {
     "iopub.execute_input": "2024-06-09T11:41:49.297395Z",
     "iopub.status.busy": "2024-06-09T11:41:49.296989Z",
     "iopub.status.idle": "2024-06-09T11:41:53.036949Z",
     "shell.execute_reply": "2024-06-09T11:41:53.035531Z"
    },
    "papermill": {
     "duration": 3.766903,
     "end_time": "2024-06-09T11:41:53.040194",
     "exception": false,
     "start_time": "2024-06-09T11:41:49.273291",
     "status": "completed"
    },
    "tags": []
   },
   "outputs": [],
   "source": [
    "from langchain.evaluation.qa import QAEvalChain\n",
    "llm = ChatOpenAI(temperature=0, model=llm_model, openai_api_key=openai.api_key)\n",
    "eval_chain = QAEvalChain.from_llm(llm)\n",
    "graded_outputs = eval_chain.evaluate(processed_examples, predictions)"
   ]
  },
  {
   "cell_type": "markdown",
   "id": "9586914e",
   "metadata": {
    "papermill": {
     "duration": 0.021768,
     "end_time": "2024-06-09T11:41:53.084414",
     "exception": false,
     "start_time": "2024-06-09T11:41:53.062646",
     "status": "completed"
    },
    "tags": []
   },
   "source": [
    "To observe the process for each example, we’ll iterate through them. We’ll print the question, which was generated by a language model, followed by the real answer, also generated by a language model with access to the complete document. \n",
    "\n",
    "Next, we’ll display the predicted answer, generated by a language model within the QA chain, utilizing embeddings and vector databases for retrieval before passing through the language model for prediction.\n",
    "\n",
    " Additionally, we’ll print the grade, determined by a language model when prompted to evaluate and assess correctness. By systematically looping through these examples and printing their details, we gain insight into each example’s evaluation."
   ]
  },
  {
   "cell_type": "code",
   "execution_count": 18,
   "id": "dfb62517",
   "metadata": {
    "execution": {
     "iopub.execute_input": "2024-06-09T11:41:53.131541Z",
     "iopub.status.busy": "2024-06-09T11:41:53.131134Z",
     "iopub.status.idle": "2024-06-09T11:41:53.140290Z",
     "shell.execute_reply": "2024-06-09T11:41:53.138726Z"
    },
    "papermill": {
     "duration": 0.036734,
     "end_time": "2024-06-09T11:41:53.143459",
     "exception": false,
     "start_time": "2024-06-09T11:41:53.106725",
     "status": "completed"
    },
    "tags": []
   },
   "outputs": [
    {
     "name": "stdout",
     "output_type": "stream",
     "text": [
      "Example 0:\n",
      "Question: Is machine learning foundations the most important skill?\n",
      "Real Answer: Yes\n",
      "Predicted Answer: Yes, foundational machine learning skills are considered one of the most important skills for a technical career in machine learning. Understanding models like linear regression, logistic regression, neural networks, decision trees, and more, along with core concepts like bias/variance, cost functions, regularization, and optimization algorithms are crucial for success in the field.\n",
      "Predicted Grade: CORRECT\n",
      "\n",
      "Example 1:\n",
      "Question: What are Python frameworks you need to learn ?\n",
      "Real Answer: Tensorflow and PyTorch\n",
      "Predicted Answer: Some key Python frameworks that are important to learn for machine learning and artificial intelligence development include TensorFlow, PyTorch, and scikit-learn. These frameworks are widely used in the field and provide essential tools and resources for building and training machine learning models.\n",
      "Predicted Grade: CORRECT\n",
      "\n",
      "Example 2:\n",
      "Question: According to the document, who is the founder of DeepLearning.AI?\n",
      "Real Answer: The founder of DeepLearning.AI is Andrew Ng, as mentioned in the document.\n",
      "Predicted Answer: The founder of DeepLearning.AI is Andrew Ng.\n",
      "Predicted Grade: CORRECT\n",
      "\n",
      "Example 3:\n",
      "Question: According to Andrew Ng in the document, what is AI compared to and how does he believe it will impact human life?\n",
      "Real Answer: Andrew Ng compares AI to the new electricity and believes that it will transform and improve all areas of human life.\n",
      "Predicted Answer: According to the document, Andrew Ng compares AI to electricity and believes that AI will transform and improve all areas of human life.\n",
      "Predicted Grade: CORRECT\n",
      "\n",
      "Example 4:\n",
      "Question: According to the document, what are the key topics covered in the chapters of the book \"How to Build a Career in AI\"?\n",
      "Real Answer: The key topics covered in the chapters of the book \"How to Build a Career in AI\" include: \n",
      "Predicted Answer: The key topics covered in the chapters of the book \"How to Build a Career in AI\" include learning foundational technical skills, working on projects, finding a job, scoping successful AI projects, building a portfolio of projects, starting your AI job search, using informational interviews, finding the right AI job, keys to building a career in AI, and overcoming imposter syndrome.\n",
      "Predicted Grade: CORRECT\n",
      "\n",
      "Example 5:\n",
      "Question: According to the document, what is the author's comparison between traditional literacy and coding literacy?\n",
      "Real Answer: The author compares traditional literacy, which took centuries to spread and enables deep human-to-human communication, to coding literacy, specifically for AI, which is described as the deepest form of human-to-machine communication and becoming ever more important as machines become more central to daily life.\n",
      "Predicted Answer: The author compares traditional literacy (reading and writing) to coding literacy by highlighting that just as reading and writing were not initially seen as necessary skills for everyone in society, coding for AI is now emerging as a crucial form of literacy. The text suggests that as language literacy enabled deep human-to-human communication, coding for AI represents the deepest form of human-to-machine communication as machines become more central to daily life. The comparison is made to emphasize the importance of AI-oriented coding literacy alongside traditional literacy skills.\n",
      "Predicted Grade: CORRECT\n",
      "\n",
      "Example 6:\n",
      "Question: According to the document, how many steps are outlined for career growth?\n",
      "Real Answer: Three steps are outlined for career growth in the document: \"Three Steps to Career Growth.\"\n",
      "Predicted Answer: Three steps are outlined for career growth in the document.\n",
      "Predicted Grade: CORRECT\n",
      "\n"
     ]
    }
   ],
   "source": [
    "for i, eg in enumerate(processed_examples):\n",
    "    print(f\"Example {i}:\")\n",
    "    print(\"Question: \" + predictions[i]['query'])\n",
    "    print(\"Real Answer: \" + predictions[i]['answer'])\n",
    "    print(\"Predicted Answer: \" + predictions[i]['result'])\n",
    "    print(\"Predicted Grade: \" + graded_outputs[i]['results'])\n",
    "    print()"
   ]
  },
  {
   "cell_type": "markdown",
   "id": "f2a8ed57",
   "metadata": {
    "papermill": {
     "duration": 0.023352,
     "end_time": "2024-06-09T11:41:53.189418",
     "exception": false,
     "start_time": "2024-06-09T11:41:53.166066",
     "status": "completed"
    },
    "tags": []
   },
   "source": [
    "And looks like here it got everything correct except for the first question and it seems because our answer at the beginning of the notebook was very short and the right answer from the document has more details in it the evaluation was incorrect. "
   ]
  },
  {
   "cell_type": "markdown",
   "id": "57721347",
   "metadata": {
    "papermill": {
     "duration": 0.023198,
     "end_time": "2024-06-09T11:41:53.235815",
     "exception": false,
     "start_time": "2024-06-09T11:41:53.212617",
     "status": "completed"
    },
    "tags": []
   },
   "source": [
    "# <div style=\"box-shadow: rgba(240, 46, 170, 0.4) -5px 5px inset, rgba(240, 46, 170, 0.3) -10px 10px inset, rgba(240, 46, 170, 0.2) -15px 15px inset, rgba(240, 46, 170, 0.1) -20px 20px inset, rgba(240, 46, 170, 0.05) -25px 25px inset; padding:20px; font-size:30px; font-family: consolas; display:fill; border-radius:15px; color: rgba(240, 46, 170, 0.7)\"> <b> ༼⁠ ⁠つ⁠ ⁠◕⁠‿⁠◕⁠ ⁠༽⁠つ Thank You!</b></div>\n",
    "\n",
    "<p style=\"font-family:verdana; color:rgb(34, 34, 34); font-family: consolas; font-size: 16px;\"> 💌 Thank you for taking the time to read through my notebook. I hope you found it interesting and informative. If you have any feedback or suggestions for improvement, please don't hesitate to let me know in the comments. <br><br> 🚀 If you liked this notebook, please consider upvoting it so that others can discover it too. Your support means a lot to me, and it helps to motivate me to create more content in the future. <br><br> ❤️ Once again, thank you for your support, and I hope to see you again soon!</p>"
   ]
  },
  {
   "cell_type": "code",
   "execution_count": null,
   "id": "0c917b66",
   "metadata": {
    "papermill": {
     "duration": 0.023687,
     "end_time": "2024-06-09T11:41:53.282243",
     "exception": false,
     "start_time": "2024-06-09T11:41:53.258556",
     "status": "completed"
    },
    "tags": []
   },
   "outputs": [],
   "source": []
  }
 ],
 "metadata": {
  "kaggle": {
   "accelerator": "none",
   "dataSources": [
    {
     "datasetId": 5174412,
     "sourceId": 8640145,
     "sourceType": "datasetVersion"
    }
   ],
   "dockerImageVersionId": 30732,
   "isGpuEnabled": false,
   "isInternetEnabled": true,
   "language": "python",
   "sourceType": "notebook"
  },
  "kernelspec": {
   "display_name": "Python 3",
   "language": "python",
   "name": "python3"
  },
  "language_info": {
   "codemirror_mode": {
    "name": "ipython",
    "version": 3
   },
   "file_extension": ".py",
   "mimetype": "text/x-python",
   "name": "python",
   "nbconvert_exporter": "python",
   "pygments_lexer": "ipython3",
   "version": "3.10.13"
  },
  "papermill": {
   "default_parameters": {},
   "duration": 157.830221,
   "end_time": "2024-06-09T11:41:56.322879",
   "environment_variables": {},
   "exception": null,
   "input_path": "__notebook__.ipynb",
   "output_path": "__notebook__.ipynb",
   "parameters": {},
   "start_time": "2024-06-09T11:39:18.492658",
   "version": "2.5.0"
  }
 },
 "nbformat": 4,
 "nbformat_minor": 5
}
